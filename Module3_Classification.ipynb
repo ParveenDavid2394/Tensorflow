{
  "nbformat": 4,
  "nbformat_minor": 0,
  "metadata": {
    "colab": {
      "name": "Module3-Classification.ipynb",
      "provenance": [],
      "authorship_tag": "ABX9TyOaMtbqsa31bzZjhXzhIxe4",
      "include_colab_link": true
    },
    "kernelspec": {
      "name": "python3",
      "display_name": "Python 3"
    }
  },
  "cells": [
    {
      "cell_type": "markdown",
      "metadata": {
        "id": "view-in-github",
        "colab_type": "text"
      },
      "source": [
        "<a href=\"https://colab.research.google.com/github/ParveenDavid2394/Tensorflow/blob/master/Module3_Classification.ipynb\" target=\"_parent\"><img src=\"https://colab.research.google.com/assets/colab-badge.svg\" alt=\"Open In Colab\"/></a>"
      ]
    },
    {
      "cell_type": "code",
      "metadata": {
        "id": "Z4LOCbJzRqot",
        "colab_type": "code",
        "colab": {}
      },
      "source": [
        "%tensorflow_version 2.x"
      ],
      "execution_count": 1,
      "outputs": []
    },
    {
      "cell_type": "code",
      "metadata": {
        "id": "-eMiqNdhShX5",
        "colab_type": "code",
        "colab": {}
      },
      "source": [
        "from __future__ import absolute_import, division, print_function, unicode_literals\n",
        "\n",
        "import tensorflow as tf\n",
        "\n",
        "import pandas as pd"
      ],
      "execution_count": 2,
      "outputs": []
    },
    {
      "cell_type": "code",
      "metadata": {
        "id": "GDWtnnhzS0zc",
        "colab_type": "code",
        "colab": {}
      },
      "source": [
        "CSV_COLUMN_NAMES = ['SepalLength', 'SepalWidth', 'PetalLength', 'PetalWidth', 'Species']\n",
        "SPECIES = ['Setosa', 'Versicolor', 'Virginica']"
      ],
      "execution_count": 4,
      "outputs": []
    },
    {
      "cell_type": "code",
      "metadata": {
        "id": "FEpa4tbDTo1I",
        "colab_type": "code",
        "colab": {
          "base_uri": "https://localhost:8080/",
          "height": 110
        },
        "outputId": "1482eb6d-1ec4-419f-cbe4-2915acdef811"
      },
      "source": [
        "train_path = tf.keras.utils.get_file(\"iris_training.csv\", \"https://storage.googleapis.com/download.tensorflow.org/data/iris_training.csv\")\n",
        "\n",
        "test_path = tf.keras.utils.get_file(\"iris_test.csv\", \"https://storage.googleapis.com/download.tensorflow.org/data/iris_test.csv\")\n",
        "\n",
        "train = pd.read_csv(train_path, names=CSV_COLUMN_NAMES, header=0)\n",
        "\n",
        "test = pd.read_csv(test_path, names=CSV_COLUMN_NAMES, header=0)"
      ],
      "execution_count": 5,
      "outputs": [
        {
          "output_type": "stream",
          "text": [
            "Downloading data from https://storage.googleapis.com/download.tensorflow.org/data/iris_training.csv\n",
            "8192/2194 [================================================================================================================] - 0s 0us/step\n",
            "Downloading data from https://storage.googleapis.com/download.tensorflow.org/data/iris_test.csv\n",
            "8192/573 [============================================================================================================================================================================================================================================================================================================================================================================================================================================] - 0s 0us/step\n"
          ],
          "name": "stdout"
        }
      ]
    },
    {
      "cell_type": "code",
      "metadata": {
        "id": "axL3LdGjTxWd",
        "colab_type": "code",
        "colab": {
          "base_uri": "https://localhost:8080/",
          "height": 198
        },
        "outputId": "12f16b59-060f-4ccf-99ed-316b035a1aca"
      },
      "source": [
        "train.head()"
      ],
      "execution_count": 6,
      "outputs": [
        {
          "output_type": "execute_result",
          "data": {
            "text/html": [
              "<div>\n",
              "<style scoped>\n",
              "    .dataframe tbody tr th:only-of-type {\n",
              "        vertical-align: middle;\n",
              "    }\n",
              "\n",
              "    .dataframe tbody tr th {\n",
              "        vertical-align: top;\n",
              "    }\n",
              "\n",
              "    .dataframe thead th {\n",
              "        text-align: right;\n",
              "    }\n",
              "</style>\n",
              "<table border=\"1\" class=\"dataframe\">\n",
              "  <thead>\n",
              "    <tr style=\"text-align: right;\">\n",
              "      <th></th>\n",
              "      <th>SepalLength</th>\n",
              "      <th>SepalWidth</th>\n",
              "      <th>PetalLength</th>\n",
              "      <th>PetalWidth</th>\n",
              "      <th>Species</th>\n",
              "    </tr>\n",
              "  </thead>\n",
              "  <tbody>\n",
              "    <tr>\n",
              "      <th>0</th>\n",
              "      <td>6.4</td>\n",
              "      <td>2.8</td>\n",
              "      <td>5.6</td>\n",
              "      <td>2.2</td>\n",
              "      <td>2</td>\n",
              "    </tr>\n",
              "    <tr>\n",
              "      <th>1</th>\n",
              "      <td>5.0</td>\n",
              "      <td>2.3</td>\n",
              "      <td>3.3</td>\n",
              "      <td>1.0</td>\n",
              "      <td>1</td>\n",
              "    </tr>\n",
              "    <tr>\n",
              "      <th>2</th>\n",
              "      <td>4.9</td>\n",
              "      <td>2.5</td>\n",
              "      <td>4.5</td>\n",
              "      <td>1.7</td>\n",
              "      <td>2</td>\n",
              "    </tr>\n",
              "    <tr>\n",
              "      <th>3</th>\n",
              "      <td>4.9</td>\n",
              "      <td>3.1</td>\n",
              "      <td>1.5</td>\n",
              "      <td>0.1</td>\n",
              "      <td>0</td>\n",
              "    </tr>\n",
              "    <tr>\n",
              "      <th>4</th>\n",
              "      <td>5.7</td>\n",
              "      <td>3.8</td>\n",
              "      <td>1.7</td>\n",
              "      <td>0.3</td>\n",
              "      <td>0</td>\n",
              "    </tr>\n",
              "  </tbody>\n",
              "</table>\n",
              "</div>"
            ],
            "text/plain": [
              "   SepalLength  SepalWidth  PetalLength  PetalWidth  Species\n",
              "0          6.4         2.8          5.6         2.2        2\n",
              "1          5.0         2.3          3.3         1.0        1\n",
              "2          4.9         2.5          4.5         1.7        2\n",
              "3          4.9         3.1          1.5         0.1        0\n",
              "4          5.7         3.8          1.7         0.3        0"
            ]
          },
          "metadata": {
            "tags": []
          },
          "execution_count": 6
        }
      ]
    },
    {
      "cell_type": "code",
      "metadata": {
        "id": "YLEBP955T8xe",
        "colab_type": "code",
        "colab": {}
      },
      "source": [
        "# move label into separate variable\n",
        "\n",
        "train_y = train.pop('Species')\n",
        "test_y = test.pop('Species')"
      ],
      "execution_count": 7,
      "outputs": []
    },
    {
      "cell_type": "code",
      "metadata": {
        "id": "M7kiIW1KUO4a",
        "colab_type": "code",
        "colab": {
          "base_uri": "https://localhost:8080/",
          "height": 198
        },
        "outputId": "6de1920d-7b5c-4f5e-912a-bf996b5cb4bc"
      },
      "source": [
        "train.head()"
      ],
      "execution_count": 8,
      "outputs": [
        {
          "output_type": "execute_result",
          "data": {
            "text/html": [
              "<div>\n",
              "<style scoped>\n",
              "    .dataframe tbody tr th:only-of-type {\n",
              "        vertical-align: middle;\n",
              "    }\n",
              "\n",
              "    .dataframe tbody tr th {\n",
              "        vertical-align: top;\n",
              "    }\n",
              "\n",
              "    .dataframe thead th {\n",
              "        text-align: right;\n",
              "    }\n",
              "</style>\n",
              "<table border=\"1\" class=\"dataframe\">\n",
              "  <thead>\n",
              "    <tr style=\"text-align: right;\">\n",
              "      <th></th>\n",
              "      <th>SepalLength</th>\n",
              "      <th>SepalWidth</th>\n",
              "      <th>PetalLength</th>\n",
              "      <th>PetalWidth</th>\n",
              "    </tr>\n",
              "  </thead>\n",
              "  <tbody>\n",
              "    <tr>\n",
              "      <th>0</th>\n",
              "      <td>6.4</td>\n",
              "      <td>2.8</td>\n",
              "      <td>5.6</td>\n",
              "      <td>2.2</td>\n",
              "    </tr>\n",
              "    <tr>\n",
              "      <th>1</th>\n",
              "      <td>5.0</td>\n",
              "      <td>2.3</td>\n",
              "      <td>3.3</td>\n",
              "      <td>1.0</td>\n",
              "    </tr>\n",
              "    <tr>\n",
              "      <th>2</th>\n",
              "      <td>4.9</td>\n",
              "      <td>2.5</td>\n",
              "      <td>4.5</td>\n",
              "      <td>1.7</td>\n",
              "    </tr>\n",
              "    <tr>\n",
              "      <th>3</th>\n",
              "      <td>4.9</td>\n",
              "      <td>3.1</td>\n",
              "      <td>1.5</td>\n",
              "      <td>0.1</td>\n",
              "    </tr>\n",
              "    <tr>\n",
              "      <th>4</th>\n",
              "      <td>5.7</td>\n",
              "      <td>3.8</td>\n",
              "      <td>1.7</td>\n",
              "      <td>0.3</td>\n",
              "    </tr>\n",
              "  </tbody>\n",
              "</table>\n",
              "</div>"
            ],
            "text/plain": [
              "   SepalLength  SepalWidth  PetalLength  PetalWidth\n",
              "0          6.4         2.8          5.6         2.2\n",
              "1          5.0         2.3          3.3         1.0\n",
              "2          4.9         2.5          4.5         1.7\n",
              "3          4.9         3.1          1.5         0.1\n",
              "4          5.7         3.8          1.7         0.3"
            ]
          },
          "metadata": {
            "tags": []
          },
          "execution_count": 8
        }
      ]
    },
    {
      "cell_type": "markdown",
      "metadata": {
        "id": "BbRyQoPsVB29",
        "colab_type": "text"
      },
      "source": [
        "##Input Function"
      ]
    },
    {
      "cell_type": "code",
      "metadata": {
        "id": "yoVoQ9TtUSOy",
        "colab_type": "code",
        "colab": {}
      },
      "source": [
        "def input_fn(features, labels, training=True, batch_size=256):\n",
        "  # convert inputs into a dataset\n",
        "  dataset = tf.data.Dataset.from_tensor_slices((dict(features), labels))\n",
        "\n",
        "  # shuffle and repeat if in training mode\n",
        "  if training:\n",
        "    dataset = dataset.shuffle(1000).repeat()\n",
        "\n",
        "  return dataset.batch(batch_size)\n",
        "\n",
        "feature_columns = []\n",
        "\n",
        "for key in train.keys():\n",
        "  feature_columns.append(tf.feature_column.numeric_column(key))"
      ],
      "execution_count": 16,
      "outputs": []
    },
    {
      "cell_type": "code",
      "metadata": {
        "id": "w8rQlFkxU_vw",
        "colab_type": "code",
        "colab": {
          "base_uri": "https://localhost:8080/",
          "height": 201
        },
        "outputId": "79769fc7-b65a-4309-accf-e609f1fc02bb"
      },
      "source": [
        "# build a Deep Neural Network with 2 hidden layer with 30 and 10 hidden nodes each respectively\n",
        "\n",
        "classifier = tf.estimator.DNNClassifier(feature_columns=feature_columns, hidden_units=[30,10], n_classes=3)"
      ],
      "execution_count": 17,
      "outputs": [
        {
          "output_type": "stream",
          "text": [
            "INFO:tensorflow:Using default config.\n",
            "WARNING:tensorflow:Using temporary folder as model directory: /tmp/tmpft_mtqlj\n",
            "INFO:tensorflow:Using config: {'_model_dir': '/tmp/tmpft_mtqlj', '_tf_random_seed': None, '_save_summary_steps': 100, '_save_checkpoints_steps': None, '_save_checkpoints_secs': 600, '_session_config': allow_soft_placement: true\n",
            "graph_options {\n",
            "  rewrite_options {\n",
            "    meta_optimizer_iterations: ONE\n",
            "  }\n",
            "}\n",
            ", '_keep_checkpoint_max': 5, '_keep_checkpoint_every_n_hours': 10000, '_log_step_count_steps': 100, '_train_distribute': None, '_device_fn': None, '_protocol': None, '_eval_distribute': None, '_experimental_distribute': None, '_experimental_max_worker_delay_secs': None, '_session_creation_timeout_secs': 7200, '_service': None, '_cluster_spec': ClusterSpec({}), '_task_type': 'worker', '_task_id': 0, '_global_id_in_cluster': 0, '_master': '', '_evaluation_master': '', '_is_chief': True, '_num_ps_replicas': 0, '_num_worker_replicas': 1}\n"
          ],
          "name": "stdout"
        }
      ]
    },
    {
      "cell_type": "code",
      "metadata": {
        "id": "H-_-UkWRXPLb",
        "colab_type": "code",
        "colab": {
          "base_uri": "https://localhost:8080/",
          "height": 1000
        },
        "outputId": "3f624d7c-e596-44e6-a583-1d86e552f706"
      },
      "source": [
        "# train the classifier\n",
        "\n",
        "classifier.train(input_fn=lambda: input_fn(train,train_y,training=True), steps=5000)"
      ],
      "execution_count": 20,
      "outputs": [
        {
          "output_type": "stream",
          "text": [
            "INFO:tensorflow:Calling model_fn.\n",
            "WARNING:tensorflow:Layer dnn is casting an input tensor from dtype float64 to the layer's dtype of float32, which is new behavior in TensorFlow 2.  The layer has dtype float32 because its dtype defaults to floatx.\n",
            "\n",
            "If you intended to run this layer in float32, you can safely ignore this warning. If in doubt, this warning is likely only an issue if you are porting a TensorFlow 1.X model to TensorFlow 2.\n",
            "\n",
            "To change all layers to have dtype float64 by default, call `tf.keras.backend.set_floatx('float64')`. To change just this layer, pass dtype='float64' to the layer constructor. If you are the author of this layer, you can disable autocasting by passing autocast=False to the base Layer constructor.\n",
            "\n",
            "INFO:tensorflow:Done calling model_fn.\n",
            "INFO:tensorflow:Create CheckpointSaverHook.\n",
            "INFO:tensorflow:Graph was finalized.\n",
            "INFO:tensorflow:Restoring parameters from /tmp/tmpft_mtqlj/model.ckpt-5000\n",
            "WARNING:tensorflow:From /usr/local/lib/python3.6/dist-packages/tensorflow/python/training/saver.py:1077: get_checkpoint_mtimes (from tensorflow.python.training.checkpoint_management) is deprecated and will be removed in a future version.\n",
            "Instructions for updating:\n",
            "Use standard file utilities to get mtimes.\n",
            "INFO:tensorflow:Running local_init_op.\n",
            "INFO:tensorflow:Done running local_init_op.\n",
            "INFO:tensorflow:Calling checkpoint listeners before saving checkpoint 5000...\n",
            "INFO:tensorflow:Saving checkpoints for 5000 into /tmp/tmpft_mtqlj/model.ckpt.\n",
            "INFO:tensorflow:Calling checkpoint listeners after saving checkpoint 5000...\n",
            "INFO:tensorflow:loss = 0.34464946, step = 5000\n",
            "INFO:tensorflow:global_step/sec: 533.535\n",
            "INFO:tensorflow:loss = 0.34228647, step = 5100 (0.189 sec)\n",
            "INFO:tensorflow:global_step/sec: 645.071\n",
            "INFO:tensorflow:loss = 0.32721624, step = 5200 (0.155 sec)\n",
            "INFO:tensorflow:global_step/sec: 661.417\n",
            "INFO:tensorflow:loss = 0.3278587, step = 5300 (0.151 sec)\n",
            "INFO:tensorflow:global_step/sec: 657.158\n",
            "INFO:tensorflow:loss = 0.338498, step = 5400 (0.152 sec)\n",
            "INFO:tensorflow:global_step/sec: 651.649\n",
            "INFO:tensorflow:loss = 0.3229671, step = 5500 (0.154 sec)\n",
            "INFO:tensorflow:global_step/sec: 680.153\n",
            "INFO:tensorflow:loss = 0.32626045, step = 5600 (0.146 sec)\n",
            "INFO:tensorflow:global_step/sec: 632.902\n",
            "INFO:tensorflow:loss = 0.3283519, step = 5700 (0.158 sec)\n",
            "INFO:tensorflow:global_step/sec: 638.786\n",
            "INFO:tensorflow:loss = 0.32128057, step = 5800 (0.161 sec)\n",
            "INFO:tensorflow:global_step/sec: 639.549\n",
            "INFO:tensorflow:loss = 0.31149638, step = 5900 (0.153 sec)\n",
            "INFO:tensorflow:global_step/sec: 662.991\n",
            "INFO:tensorflow:loss = 0.3073839, step = 6000 (0.153 sec)\n",
            "INFO:tensorflow:global_step/sec: 665.722\n",
            "INFO:tensorflow:loss = 0.30683094, step = 6100 (0.148 sec)\n",
            "INFO:tensorflow:global_step/sec: 678.45\n",
            "INFO:tensorflow:loss = 0.30863038, step = 6200 (0.149 sec)\n",
            "INFO:tensorflow:global_step/sec: 653.455\n",
            "INFO:tensorflow:loss = 0.30020028, step = 6300 (0.152 sec)\n",
            "INFO:tensorflow:global_step/sec: 663.861\n",
            "INFO:tensorflow:loss = 0.29585865, step = 6400 (0.152 sec)\n",
            "INFO:tensorflow:global_step/sec: 637.442\n",
            "INFO:tensorflow:loss = 0.30665186, step = 6500 (0.156 sec)\n",
            "INFO:tensorflow:global_step/sec: 670.131\n",
            "INFO:tensorflow:loss = 0.30835283, step = 6600 (0.151 sec)\n",
            "INFO:tensorflow:global_step/sec: 660.198\n",
            "INFO:tensorflow:loss = 0.28965715, step = 6700 (0.151 sec)\n",
            "INFO:tensorflow:global_step/sec: 661.287\n",
            "INFO:tensorflow:loss = 0.29805872, step = 6800 (0.150 sec)\n",
            "INFO:tensorflow:global_step/sec: 665.74\n",
            "INFO:tensorflow:loss = 0.30172646, step = 6900 (0.152 sec)\n",
            "INFO:tensorflow:global_step/sec: 672.991\n",
            "INFO:tensorflow:loss = 0.2867172, step = 7000 (0.147 sec)\n",
            "INFO:tensorflow:global_step/sec: 658.426\n",
            "INFO:tensorflow:loss = 0.28898305, step = 7100 (0.151 sec)\n",
            "INFO:tensorflow:global_step/sec: 643.199\n",
            "INFO:tensorflow:loss = 0.2899752, step = 7200 (0.156 sec)\n",
            "INFO:tensorflow:global_step/sec: 662.274\n",
            "INFO:tensorflow:loss = 0.2896896, step = 7300 (0.150 sec)\n",
            "INFO:tensorflow:global_step/sec: 639.416\n",
            "INFO:tensorflow:loss = 0.2884762, step = 7400 (0.156 sec)\n",
            "INFO:tensorflow:global_step/sec: 638.895\n",
            "INFO:tensorflow:loss = 0.28189704, step = 7500 (0.157 sec)\n",
            "INFO:tensorflow:global_step/sec: 659.083\n",
            "INFO:tensorflow:loss = 0.28929985, step = 7600 (0.153 sec)\n",
            "INFO:tensorflow:global_step/sec: 647.212\n",
            "INFO:tensorflow:loss = 0.27999547, step = 7700 (0.153 sec)\n",
            "INFO:tensorflow:global_step/sec: 652.815\n",
            "INFO:tensorflow:loss = 0.2781003, step = 7800 (0.153 sec)\n",
            "INFO:tensorflow:global_step/sec: 643.161\n",
            "INFO:tensorflow:loss = 0.28886664, step = 7900 (0.156 sec)\n",
            "INFO:tensorflow:global_step/sec: 660.47\n",
            "INFO:tensorflow:loss = 0.27588558, step = 8000 (0.153 sec)\n",
            "INFO:tensorflow:global_step/sec: 658.481\n",
            "INFO:tensorflow:loss = 0.27377987, step = 8100 (0.152 sec)\n",
            "INFO:tensorflow:global_step/sec: 670.364\n",
            "INFO:tensorflow:loss = 0.2780891, step = 8200 (0.147 sec)\n",
            "INFO:tensorflow:global_step/sec: 663.337\n",
            "INFO:tensorflow:loss = 0.26847056, step = 8300 (0.150 sec)\n",
            "INFO:tensorflow:global_step/sec: 648.878\n",
            "INFO:tensorflow:loss = 0.2543416, step = 8400 (0.157 sec)\n",
            "INFO:tensorflow:global_step/sec: 655.958\n",
            "INFO:tensorflow:loss = 0.26751247, step = 8500 (0.150 sec)\n",
            "INFO:tensorflow:global_step/sec: 664.03\n",
            "INFO:tensorflow:loss = 0.26392442, step = 8600 (0.154 sec)\n",
            "INFO:tensorflow:global_step/sec: 651.371\n",
            "INFO:tensorflow:loss = 0.26062456, step = 8700 (0.153 sec)\n",
            "INFO:tensorflow:global_step/sec: 655.779\n",
            "INFO:tensorflow:loss = 0.2706935, step = 8800 (0.152 sec)\n",
            "INFO:tensorflow:global_step/sec: 671.01\n",
            "INFO:tensorflow:loss = 0.26402923, step = 8900 (0.147 sec)\n",
            "INFO:tensorflow:global_step/sec: 671.265\n",
            "INFO:tensorflow:loss = 0.26274386, step = 9000 (0.149 sec)\n",
            "INFO:tensorflow:global_step/sec: 664.062\n",
            "INFO:tensorflow:loss = 0.25081906, step = 9100 (0.151 sec)\n",
            "INFO:tensorflow:global_step/sec: 653.016\n",
            "INFO:tensorflow:loss = 0.25250715, step = 9200 (0.154 sec)\n",
            "INFO:tensorflow:global_step/sec: 564.364\n",
            "INFO:tensorflow:loss = 0.24365462, step = 9300 (0.176 sec)\n",
            "INFO:tensorflow:global_step/sec: 621.645\n",
            "INFO:tensorflow:loss = 0.25859177, step = 9400 (0.161 sec)\n",
            "INFO:tensorflow:global_step/sec: 648.609\n",
            "INFO:tensorflow:loss = 0.24752183, step = 9500 (0.154 sec)\n",
            "INFO:tensorflow:global_step/sec: 657.809\n",
            "INFO:tensorflow:loss = 0.24182746, step = 9600 (0.154 sec)\n",
            "INFO:tensorflow:global_step/sec: 651.746\n",
            "INFO:tensorflow:loss = 0.25485182, step = 9700 (0.154 sec)\n",
            "INFO:tensorflow:global_step/sec: 633.75\n",
            "INFO:tensorflow:loss = 0.2484037, step = 9800 (0.156 sec)\n",
            "INFO:tensorflow:global_step/sec: 669.498\n",
            "INFO:tensorflow:loss = 0.23985615, step = 9900 (0.151 sec)\n",
            "INFO:tensorflow:Calling checkpoint listeners before saving checkpoint 10000...\n",
            "INFO:tensorflow:Saving checkpoints for 10000 into /tmp/tmpft_mtqlj/model.ckpt.\n",
            "INFO:tensorflow:Calling checkpoint listeners after saving checkpoint 10000...\n",
            "INFO:tensorflow:Loss for final step: 0.24997425.\n"
          ],
          "name": "stdout"
        },
        {
          "output_type": "execute_result",
          "data": {
            "text/plain": [
              "<tensorflow_estimator.python.estimator.canned.dnn.DNNClassifierV2 at 0x7fd19a6984e0>"
            ]
          },
          "metadata": {
            "tags": []
          },
          "execution_count": 20
        }
      ]
    },
    {
      "cell_type": "code",
      "metadata": {
        "id": "sZDtWixDYSAb",
        "colab_type": "code",
        "colab": {
          "base_uri": "https://localhost:8080/",
          "height": 365
        },
        "outputId": "92437b9f-051c-4162-81e0-2134bb1c3c74"
      },
      "source": [
        "eval_result = classifier.evaluate(input_fn= lambda:input_fn(test,test_y, training=False))\n",
        "\n",
        "print('Test Accuracy: {accuracy:0.3f}'.format(**eval_result))"
      ],
      "execution_count": 21,
      "outputs": [
        {
          "output_type": "stream",
          "text": [
            "INFO:tensorflow:Calling model_fn.\n",
            "WARNING:tensorflow:Layer dnn is casting an input tensor from dtype float64 to the layer's dtype of float32, which is new behavior in TensorFlow 2.  The layer has dtype float32 because its dtype defaults to floatx.\n",
            "\n",
            "If you intended to run this layer in float32, you can safely ignore this warning. If in doubt, this warning is likely only an issue if you are porting a TensorFlow 1.X model to TensorFlow 2.\n",
            "\n",
            "To change all layers to have dtype float64 by default, call `tf.keras.backend.set_floatx('float64')`. To change just this layer, pass dtype='float64' to the layer constructor. If you are the author of this layer, you can disable autocasting by passing autocast=False to the base Layer constructor.\n",
            "\n",
            "INFO:tensorflow:Done calling model_fn.\n",
            "INFO:tensorflow:Starting evaluation at 2020-08-05T02:27:35Z\n",
            "INFO:tensorflow:Graph was finalized.\n",
            "INFO:tensorflow:Restoring parameters from /tmp/tmpft_mtqlj/model.ckpt-10000\n",
            "INFO:tensorflow:Running local_init_op.\n",
            "INFO:tensorflow:Done running local_init_op.\n",
            "INFO:tensorflow:Inference Time : 0.18394s\n",
            "INFO:tensorflow:Finished evaluation at 2020-08-05-02:27:35\n",
            "INFO:tensorflow:Saving dict for global step 10000: accuracy = 0.96666664, average_loss = 0.27977931, global_step = 10000, loss = 0.27977931\n",
            "INFO:tensorflow:Saving 'checkpoint_path' summary for global step 10000: /tmp/tmpft_mtqlj/model.ckpt-10000\n",
            "Test Accuracy: 0.967\n"
          ],
          "name": "stdout"
        }
      ]
    },
    {
      "cell_type": "code",
      "metadata": {
        "id": "hvm-yZrScNvp",
        "colab_type": "code",
        "colab": {
          "base_uri": "https://localhost:8080/",
          "height": 235
        },
        "outputId": "bdeb9431-ad25-4fa6-984a-af1c03bb4ec6"
      },
      "source": [
        "# Prediction\n",
        "\n",
        "def input_fn(features, batch_size=256):\n",
        "    # Convert the inputs to a Dataset without labels.\n",
        "    return tf.data.Dataset.from_tensor_slices(dict(features)).batch(batch_size)\n",
        "\n",
        "features = ['SepalLength', 'SepalWidth', 'PetalLength', 'PetalWidth']\n",
        "predict = {}\n",
        "\n",
        "print(\"Please type numeric values as prompted.\")\n",
        "for feature in features:\n",
        "  valid = True\n",
        "  while valid: \n",
        "    val = input(feature + \": \")\n",
        "    if not val.isdigit(): valid = False\n",
        "\n",
        "  predict[feature] = [float(val)]\n",
        "\n",
        "predictions = classifier.predict(input_fn=lambda: input_fn(predict))\n",
        "for pred_dict in predictions:\n",
        "    class_id = pred_dict['class_ids'][0]\n",
        "    probability = pred_dict['probabilities'][class_id]\n",
        "\n",
        "    print('Prediction is \"{}\" ({:.1f}%)'.format(\n",
        "        SPECIES[class_id], 100 * probability))\n"
      ],
      "execution_count": 22,
      "outputs": [
        {
          "output_type": "stream",
          "text": [
            "Please type numeric values as prompted.\n",
            "SepalLength: 2.2\n",
            "SepalWidth: 3.5\n",
            "PetalLength: 2.3\n",
            "PetalWidth: 6.3\n",
            "INFO:tensorflow:Calling model_fn.\n",
            "INFO:tensorflow:Done calling model_fn.\n",
            "INFO:tensorflow:Graph was finalized.\n",
            "INFO:tensorflow:Restoring parameters from /tmp/tmpft_mtqlj/model.ckpt-10000\n",
            "INFO:tensorflow:Running local_init_op.\n",
            "INFO:tensorflow:Done running local_init_op.\n",
            "Prediction is \"Virginica\" (90.8%)\n"
          ],
          "name": "stdout"
        }
      ]
    },
    {
      "cell_type": "code",
      "metadata": {
        "id": "dKlmuw7YdyNN",
        "colab_type": "code",
        "colab": {}
      },
      "source": [
        ""
      ],
      "execution_count": null,
      "outputs": []
    }
  ]
}