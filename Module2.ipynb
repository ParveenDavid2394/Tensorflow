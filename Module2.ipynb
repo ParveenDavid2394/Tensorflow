{
  "nbformat": 4,
  "nbformat_minor": 0,
  "metadata": {
    "colab": {
      "name": "Module2.ipynb",
      "provenance": [],
      "authorship_tag": "ABX9TyO+O45yYS96BUj25beNzcMe",
      "include_colab_link": true
    },
    "kernelspec": {
      "name": "python3",
      "display_name": "Python 3"
    }
  },
  "cells": [
    {
      "cell_type": "markdown",
      "metadata": {
        "id": "view-in-github",
        "colab_type": "text"
      },
      "source": [
        "<a href=\"https://colab.research.google.com/github/ParveenDavid2394/Tensorflow/blob/master/Module2.ipynb\" target=\"_parent\"><img src=\"https://colab.research.google.com/assets/colab-badge.svg\" alt=\"Open In Colab\"/></a>"
      ]
    },
    {
      "cell_type": "code",
      "metadata": {
        "id": "klOA-z1crSjE",
        "colab_type": "code",
        "colab": {
          "base_uri": "https://localhost:8080/",
          "height": 34
        },
        "outputId": "fa2ae076-3c27-479d-979c-65d8bbe46c4c"
      },
      "source": [
        "%tensorflow_version 2.x\n",
        "import tensorflow as tf\n",
        "print(tf.version)"
      ],
      "execution_count": 1,
      "outputs": [
        {
          "output_type": "stream",
          "text": [
            "<module 'tensorflow._api.v2.version' from '/usr/local/lib/python3.6/dist-packages/tensorflow/_api/v2/version/__init__.py'>\n"
          ],
          "name": "stdout"
        }
      ]
    },
    {
      "cell_type": "markdown",
      "metadata": {
        "id": "U-PNxFmH2cVX",
        "colab_type": "text"
      },
      "source": [
        "## Datatype of tf variables"
      ]
    },
    {
      "cell_type": "code",
      "metadata": {
        "id": "8qFtmZV-2hxu",
        "colab_type": "code",
        "colab": {}
      },
      "source": [
        "string = tf.Variable('This is a string', tf.string)\n",
        "number = tf.Variable(12, tf.int16)\n",
        "float_tf = tf.Variable(13.45, tf.float32)"
      ],
      "execution_count": 3,
      "outputs": []
    },
    {
      "cell_type": "markdown",
      "metadata": {
        "id": "BdbC4KW63IKo",
        "colab_type": "text"
      },
      "source": [
        "## Rank/Degree\n",
        "\n",
        "number of dimensions involved in the tensor.\n",
        "Example above are scalar with 0 rank/degree.\n",
        "Example below shows tensor with rank/degree 1 and 2"
      ]
    },
    {
      "cell_type": "code",
      "metadata": {
        "id": "B__5wEPh24fX",
        "colab_type": "code",
        "colab": {
          "base_uri": "https://localhost:8080/",
          "height": 51
        },
        "outputId": "3425071a-411d-44fe-9c72-97960b471da0"
      },
      "source": [
        "rank1 = tf.Variable([\"One\"], tf.string) # rank 1\n",
        "rank2 = tf.Variable([['One','Two',\"Six\"],['Three','Four', 'Three']], tf.string) # rank 2\n",
        "\n",
        "# check the ranks of these tensors\n",
        "tf.rank(rank1), tf.rank(rank2)"
      ],
      "execution_count": 13,
      "outputs": [
        {
          "output_type": "execute_result",
          "data": {
            "text/plain": [
              "(<tf.Tensor: shape=(), dtype=int32, numpy=1>,\n",
              " <tf.Tensor: shape=(), dtype=int32, numpy=2>)"
            ]
          },
          "metadata": {
            "tags": []
          },
          "execution_count": 13
        }
      ]
    },
    {
      "cell_type": "markdown",
      "metadata": {
        "id": "LzPvKOuk4mlT",
        "colab_type": "text"
      },
      "source": [
        "## Shape of Tensors\n",
        "\n",
        "It is simply the amount of elements that exist in a dimension"
      ]
    },
    {
      "cell_type": "code",
      "metadata": {
        "id": "yuKvGdt_3sTv",
        "colab_type": "code",
        "colab": {
          "base_uri": "https://localhost:8080/",
          "height": 34
        },
        "outputId": "8a85faff-f81e-41d7-8374-3910ff9d2906"
      },
      "source": [
        "rank2.shape # 2 lists and 3 elements in each"
      ],
      "execution_count": 16,
      "outputs": [
        {
          "output_type": "execute_result",
          "data": {
            "text/plain": [
              "TensorShape([2, 3])"
            ]
          },
          "metadata": {
            "tags": []
          },
          "execution_count": 16
        }
      ]
    },
    {
      "cell_type": "markdown",
      "metadata": {
        "id": "yshv4p7P5xOm",
        "colab_type": "text"
      },
      "source": [
        "## Changing the Shape of Tensors\n",
        "\n",
        "use tf.reshape(tensor,shape())"
      ]
    },
    {
      "cell_type": "code",
      "metadata": {
        "id": "lKjAYtNH44b2",
        "colab_type": "code",
        "colab": {
          "base_uri": "https://localhost:8080/",
          "height": 85
        },
        "outputId": "238fd2d1-91f0-4c85-9c8f-d94a2a8c7ce4"
      },
      "source": [
        "tensor1 = tf.ones([1,2,3])\n",
        "tensor2 = tf.reshape(tensor1,[1,6])\n",
        "tensor3 = tf.reshape(tensor2,[3,-1]) # placing -1 will automatically calculate the supposed value for the dimension of the tensor\n",
        "                                     # hence that will be [3,2]\n",
        "\n",
        "print(tensor3)"
      ],
      "execution_count": 27,
      "outputs": [
        {
          "output_type": "stream",
          "text": [
            "tf.Tensor(\n",
            "[[1. 1.]\n",
            " [1. 1.]\n",
            " [1. 1.]], shape=(3, 2), dtype=float32)\n"
          ],
          "name": "stdout"
        }
      ]
    },
    {
      "cell_type": "markdown",
      "metadata": {
        "id": "-qHUq3FY8JzM",
        "colab_type": "text"
      },
      "source": [
        "## Type of Tensors\n",
        "\n",
        "  - Variable\n",
        "  - Constant\n",
        "  - Placeholder\n",
        "  - SparseTensor\n",
        "\n",
        "  Except the Variable type, all other types are immutable. "
      ]
    },
    {
      "cell_type": "markdown",
      "metadata": {
        "id": "xUcB-1XN8eCo",
        "colab_type": "text"
      },
      "source": [
        "## Evaluating Tensors\n",
        "\n",
        "Since Tensors represent partially complete computation, we would need to run what's called a *session* to evaluate the tensor\n",
        "\n",
        "E.g:\n",
        "\n",
        "    with tf.Session() as sess:\n",
        "    tensor.eval()"
      ]
    },
    {
      "cell_type": "code",
      "metadata": {
        "id": "f_G9Uixb88Gq",
        "colab_type": "code",
        "colab": {}
      },
      "source": [
        ""
      ],
      "execution_count": null,
      "outputs": []
    }
  ]
}